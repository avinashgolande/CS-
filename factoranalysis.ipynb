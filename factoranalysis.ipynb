{
  "nbformat": 4,
  "nbformat_minor": 0,
  "metadata": {
    "colab": {
      "provenance": []
    },
    "kernelspec": {
      "name": "python3",
      "display_name": "Python 3"
    },
    "language_info": {
      "name": "python"
    }
  },
  "cells": [
    {
      "cell_type": "code",
      "source": [
        "!pip install factor_analyzer"
      ],
      "metadata": {
        "colab": {
          "base_uri": "https://localhost:8080/"
        },
        "id": "6LuBnWi1gyXi",
        "outputId": "d39f856f-a79d-4c69-ae16-79c0e1ff5676"
      },
      "execution_count": null,
      "outputs": [
        {
          "output_type": "stream",
          "name": "stdout",
          "text": [
            "Collecting factor_analyzer\n",
            "  Downloading factor_analyzer-0.5.0.tar.gz (42 kB)\n",
            "\u001b[?25l     \u001b[90m━━━━━━━━━━━━━━━━━━━━━━━━━━━━━━━━━━━━━━━━\u001b[0m \u001b[32m0.0/42.5 kB\u001b[0m \u001b[31m?\u001b[0m eta \u001b[36m-:--:--\u001b[0m\r\u001b[2K     \u001b[90m━━━━━━━━━━━━━━━━━━━━━━━━━━━━━━━━━━━━━━━━\u001b[0m \u001b[32m42.5/42.5 kB\u001b[0m \u001b[31m1.4 MB/s\u001b[0m eta \u001b[36m0:00:00\u001b[0m\n",
            "\u001b[?25h  Installing build dependencies ... \u001b[?25l\u001b[?25hdone\n",
            "  Getting requirements to build wheel ... \u001b[?25l\u001b[?25hdone\n",
            "  Preparing metadata (pyproject.toml) ... \u001b[?25l\u001b[?25hdone\n",
            "Requirement already satisfied: pandas in /usr/local/lib/python3.10/dist-packages (from factor_analyzer) (1.5.3)\n",
            "Requirement already satisfied: scipy in /usr/local/lib/python3.10/dist-packages (from factor_analyzer) (1.11.3)\n",
            "Requirement already satisfied: numpy in /usr/local/lib/python3.10/dist-packages (from factor_analyzer) (1.23.5)\n",
            "Requirement already satisfied: scikit-learn in /usr/local/lib/python3.10/dist-packages (from factor_analyzer) (1.2.2)\n",
            "Collecting pre-commit (from factor_analyzer)\n",
            "  Downloading pre_commit-3.5.0-py2.py3-none-any.whl (203 kB)\n",
            "\u001b[2K     \u001b[90m━━━━━━━━━━━━━━━━━━━━━━━━━━━━━━━━━━━━━━━━\u001b[0m \u001b[32m203.7/203.7 kB\u001b[0m \u001b[31m6.8 MB/s\u001b[0m eta \u001b[36m0:00:00\u001b[0m\n",
            "\u001b[?25hRequirement already satisfied: python-dateutil>=2.8.1 in /usr/local/lib/python3.10/dist-packages (from pandas->factor_analyzer) (2.8.2)\n",
            "Requirement already satisfied: pytz>=2020.1 in /usr/local/lib/python3.10/dist-packages (from pandas->factor_analyzer) (2023.3.post1)\n",
            "Collecting cfgv>=2.0.0 (from pre-commit->factor_analyzer)\n",
            "  Downloading cfgv-3.4.0-py2.py3-none-any.whl (7.2 kB)\n",
            "Collecting identify>=1.0.0 (from pre-commit->factor_analyzer)\n",
            "  Downloading identify-2.5.32-py2.py3-none-any.whl (98 kB)\n",
            "\u001b[2K     \u001b[90m━━━━━━━━━━━━━━━━━━━━━━━━━━━━━━━━━━━━━━━━\u001b[0m \u001b[32m98.9/98.9 kB\u001b[0m \u001b[31m12.9 MB/s\u001b[0m eta \u001b[36m0:00:00\u001b[0m\n",
            "\u001b[?25hCollecting nodeenv>=0.11.1 (from pre-commit->factor_analyzer)\n",
            "  Downloading nodeenv-1.8.0-py2.py3-none-any.whl (22 kB)\n",
            "Requirement already satisfied: pyyaml>=5.1 in /usr/local/lib/python3.10/dist-packages (from pre-commit->factor_analyzer) (6.0.1)\n",
            "Collecting virtualenv>=20.10.0 (from pre-commit->factor_analyzer)\n",
            "  Downloading virtualenv-20.24.7-py3-none-any.whl (3.8 MB)\n",
            "\u001b[2K     \u001b[90m━━━━━━━━━━━━━━━━━━━━━━━━━━━━━━━━━━━━━━━━\u001b[0m \u001b[32m3.8/3.8 MB\u001b[0m \u001b[31m55.0 MB/s\u001b[0m eta \u001b[36m0:00:00\u001b[0m\n",
            "\u001b[?25hRequirement already satisfied: joblib>=1.1.1 in /usr/local/lib/python3.10/dist-packages (from scikit-learn->factor_analyzer) (1.3.2)\n",
            "Requirement already satisfied: threadpoolctl>=2.0.0 in /usr/local/lib/python3.10/dist-packages (from scikit-learn->factor_analyzer) (3.2.0)\n",
            "Requirement already satisfied: setuptools in /usr/local/lib/python3.10/dist-packages (from nodeenv>=0.11.1->pre-commit->factor_analyzer) (67.7.2)\n",
            "Requirement already satisfied: six>=1.5 in /usr/local/lib/python3.10/dist-packages (from python-dateutil>=2.8.1->pandas->factor_analyzer) (1.16.0)\n",
            "Collecting distlib<1,>=0.3.7 (from virtualenv>=20.10.0->pre-commit->factor_analyzer)\n",
            "  Downloading distlib-0.3.7-py2.py3-none-any.whl (468 kB)\n",
            "\u001b[2K     \u001b[90m━━━━━━━━━━━━━━━━━━━━━━━━━━━━━━━━━━━━━━━━\u001b[0m \u001b[32m468.9/468.9 kB\u001b[0m \u001b[31m42.2 MB/s\u001b[0m eta \u001b[36m0:00:00\u001b[0m\n",
            "\u001b[?25hRequirement already satisfied: filelock<4,>=3.12.2 in /usr/local/lib/python3.10/dist-packages (from virtualenv>=20.10.0->pre-commit->factor_analyzer) (3.13.1)\n",
            "Requirement already satisfied: platformdirs<5,>=3.9.1 in /usr/local/lib/python3.10/dist-packages (from virtualenv>=20.10.0->pre-commit->factor_analyzer) (4.0.0)\n",
            "Building wheels for collected packages: factor_analyzer\n",
            "  Building wheel for factor_analyzer (pyproject.toml) ... \u001b[?25l\u001b[?25hdone\n",
            "  Created wheel for factor_analyzer: filename=factor_analyzer-0.5.0-py2.py3-none-any.whl size=42486 sha256=d1f525281e42003a870b1d42e5ce7a4e6e8ebe1d49078e59ee633cb62180b4df\n",
            "  Stored in directory: /root/.cache/pip/wheels/74/a2/6c/26fb1addf1ce6c60a8cef8397f2999f0a1e6e2fcddc8abf33e\n",
            "Successfully built factor_analyzer\n",
            "Installing collected packages: distlib, virtualenv, nodeenv, identify, cfgv, pre-commit, factor_analyzer\n",
            "Successfully installed cfgv-3.4.0 distlib-0.3.7 factor_analyzer-0.5.0 identify-2.5.32 nodeenv-1.8.0 pre-commit-3.5.0 virtualenv-20.24.7\n"
          ]
        }
      ]
    },
    {
      "cell_type": "code",
      "execution_count": null,
      "metadata": {
        "id": "tPvuKyHcfTib"
      },
      "outputs": [],
      "source": [
        "# Import required libraries\n",
        "import pandas as pd\n",
        "from sklearn.datasets import load_iris\n",
        "from factor_analyzer import FactorAnalyzer\n",
        "import matplotlib.pyplot as plt"
      ]
    },
    {
      "cell_type": "code",
      "source": [
        "df= pd.read_csv(\"bfi.csv\")\n",
        "df.columns"
      ],
      "metadata": {
        "colab": {
          "base_uri": "https://localhost:8080/"
        },
        "id": "kMmM_8Z-fVm9",
        "outputId": "62b15769-dbc9-4c7f-949c-047ebc1df4fa"
      },
      "execution_count": null,
      "outputs": [
        {
          "output_type": "execute_result",
          "data": {
            "text/plain": [
              "Index(['rownames', 'A1', 'A2', 'A3', 'A4', 'A5', 'C1', 'C2', 'C3', 'C4', 'C5',\n",
              "       'E1', 'E2', 'E3', 'E4', 'E5', 'N1', 'N2', 'N3', 'N4', 'N5', 'O1', 'O2',\n",
              "       'O3', 'O4', 'O5', 'gender', 'education', 'age'],\n",
              "      dtype='object')"
            ]
          },
          "metadata": {},
          "execution_count": 3
        }
      ]
    },
    {
      "cell_type": "code",
      "source": [
        "# Dropping unnecessary columns\n",
        "df.drop(['gender', 'education', 'age'],axis=1,inplace=True)"
      ],
      "metadata": {
        "id": "HjAr8xA2hRGq"
      },
      "execution_count": null,
      "outputs": []
    },
    {
      "cell_type": "code",
      "source": [
        "# Dropping missing values rows\n",
        "df.dropna(inplace=True)"
      ],
      "metadata": {
        "id": "mWfvrPy4hWzj"
      },
      "execution_count": null,
      "outputs": []
    },
    {
      "cell_type": "code",
      "source": [
        "df.info()"
      ],
      "metadata": {
        "colab": {
          "base_uri": "https://localhost:8080/"
        },
        "id": "7EJMF3q_haVP",
        "outputId": "c6160412-1114-44bf-8c6d-043b78f54606"
      },
      "execution_count": null,
      "outputs": [
        {
          "output_type": "stream",
          "name": "stdout",
          "text": [
            "<class 'pandas.core.frame.DataFrame'>\n",
            "Int64Index: 2436 entries, 0 to 2799\n",
            "Data columns (total 26 columns):\n",
            " #   Column    Non-Null Count  Dtype  \n",
            "---  ------    --------------  -----  \n",
            " 0   rownames  2436 non-null   int64  \n",
            " 1   A1        2436 non-null   float64\n",
            " 2   A2        2436 non-null   float64\n",
            " 3   A3        2436 non-null   float64\n",
            " 4   A4        2436 non-null   float64\n",
            " 5   A5        2436 non-null   float64\n",
            " 6   C1        2436 non-null   float64\n",
            " 7   C2        2436 non-null   float64\n",
            " 8   C3        2436 non-null   float64\n",
            " 9   C4        2436 non-null   float64\n",
            " 10  C5        2436 non-null   float64\n",
            " 11  E1        2436 non-null   float64\n",
            " 12  E2        2436 non-null   float64\n",
            " 13  E3        2436 non-null   float64\n",
            " 14  E4        2436 non-null   float64\n",
            " 15  E5        2436 non-null   float64\n",
            " 16  N1        2436 non-null   float64\n",
            " 17  N2        2436 non-null   float64\n",
            " 18  N3        2436 non-null   float64\n",
            " 19  N4        2436 non-null   float64\n",
            " 20  N5        2436 non-null   float64\n",
            " 21  O1        2436 non-null   float64\n",
            " 22  O2        2436 non-null   int64  \n",
            " 23  O3        2436 non-null   float64\n",
            " 24  O4        2436 non-null   float64\n",
            " 25  O5        2436 non-null   float64\n",
            "dtypes: float64(24), int64(2)\n",
            "memory usage: 513.8 KB\n"
          ]
        }
      ]
    },
    {
      "cell_type": "code",
      "source": [
        "df.head()"
      ],
      "metadata": {
        "colab": {
          "base_uri": "https://localhost:8080/",
          "height": 235
        },
        "id": "vWanVFF1heGC",
        "outputId": "b2177ee1-2ba8-4b43-8f8b-81ad568ad8d3"
      },
      "execution_count": null,
      "outputs": [
        {
          "output_type": "execute_result",
          "data": {
            "text/plain": [
              "   rownames   A1   A2   A3   A4   A5   C1   C2   C3   C4  ...   N1   N2   N3  \\\n",
              "0     61617  2.0  4.0  3.0  4.0  4.0  2.0  3.0  3.0  4.0  ...  3.0  4.0  2.0   \n",
              "1     61618  2.0  4.0  5.0  2.0  5.0  5.0  4.0  4.0  3.0  ...  3.0  3.0  3.0   \n",
              "2     61620  5.0  4.0  5.0  4.0  4.0  4.0  5.0  4.0  2.0  ...  4.0  5.0  4.0   \n",
              "3     61621  4.0  4.0  6.0  5.0  5.0  4.0  4.0  3.0  5.0  ...  2.0  5.0  2.0   \n",
              "4     61622  2.0  3.0  3.0  4.0  5.0  4.0  4.0  5.0  3.0  ...  2.0  3.0  4.0   \n",
              "\n",
              "    N4   N5   O1  O2   O3   O4   O5  \n",
              "0  2.0  3.0  3.0   6  3.0  4.0  3.0  \n",
              "1  5.0  5.0  4.0   2  4.0  3.0  3.0  \n",
              "2  2.0  3.0  4.0   2  5.0  5.0  2.0  \n",
              "3  4.0  1.0  3.0   3  4.0  3.0  5.0  \n",
              "4  4.0  3.0  3.0   3  4.0  3.0  3.0  \n",
              "\n",
              "[5 rows x 26 columns]"
            ],
            "text/html": [
              "\n",
              "  <div id=\"df-241b0c05-91a3-453b-a893-b6dea9dc2797\" class=\"colab-df-container\">\n",
              "    <div>\n",
              "<style scoped>\n",
              "    .dataframe tbody tr th:only-of-type {\n",
              "        vertical-align: middle;\n",
              "    }\n",
              "\n",
              "    .dataframe tbody tr th {\n",
              "        vertical-align: top;\n",
              "    }\n",
              "\n",
              "    .dataframe thead th {\n",
              "        text-align: right;\n",
              "    }\n",
              "</style>\n",
              "<table border=\"1\" class=\"dataframe\">\n",
              "  <thead>\n",
              "    <tr style=\"text-align: right;\">\n",
              "      <th></th>\n",
              "      <th>rownames</th>\n",
              "      <th>A1</th>\n",
              "      <th>A2</th>\n",
              "      <th>A3</th>\n",
              "      <th>A4</th>\n",
              "      <th>A5</th>\n",
              "      <th>C1</th>\n",
              "      <th>C2</th>\n",
              "      <th>C3</th>\n",
              "      <th>C4</th>\n",
              "      <th>...</th>\n",
              "      <th>N1</th>\n",
              "      <th>N2</th>\n",
              "      <th>N3</th>\n",
              "      <th>N4</th>\n",
              "      <th>N5</th>\n",
              "      <th>O1</th>\n",
              "      <th>O2</th>\n",
              "      <th>O3</th>\n",
              "      <th>O4</th>\n",
              "      <th>O5</th>\n",
              "    </tr>\n",
              "  </thead>\n",
              "  <tbody>\n",
              "    <tr>\n",
              "      <th>0</th>\n",
              "      <td>61617</td>\n",
              "      <td>2.0</td>\n",
              "      <td>4.0</td>\n",
              "      <td>3.0</td>\n",
              "      <td>4.0</td>\n",
              "      <td>4.0</td>\n",
              "      <td>2.0</td>\n",
              "      <td>3.0</td>\n",
              "      <td>3.0</td>\n",
              "      <td>4.0</td>\n",
              "      <td>...</td>\n",
              "      <td>3.0</td>\n",
              "      <td>4.0</td>\n",
              "      <td>2.0</td>\n",
              "      <td>2.0</td>\n",
              "      <td>3.0</td>\n",
              "      <td>3.0</td>\n",
              "      <td>6</td>\n",
              "      <td>3.0</td>\n",
              "      <td>4.0</td>\n",
              "      <td>3.0</td>\n",
              "    </tr>\n",
              "    <tr>\n",
              "      <th>1</th>\n",
              "      <td>61618</td>\n",
              "      <td>2.0</td>\n",
              "      <td>4.0</td>\n",
              "      <td>5.0</td>\n",
              "      <td>2.0</td>\n",
              "      <td>5.0</td>\n",
              "      <td>5.0</td>\n",
              "      <td>4.0</td>\n",
              "      <td>4.0</td>\n",
              "      <td>3.0</td>\n",
              "      <td>...</td>\n",
              "      <td>3.0</td>\n",
              "      <td>3.0</td>\n",
              "      <td>3.0</td>\n",
              "      <td>5.0</td>\n",
              "      <td>5.0</td>\n",
              "      <td>4.0</td>\n",
              "      <td>2</td>\n",
              "      <td>4.0</td>\n",
              "      <td>3.0</td>\n",
              "      <td>3.0</td>\n",
              "    </tr>\n",
              "    <tr>\n",
              "      <th>2</th>\n",
              "      <td>61620</td>\n",
              "      <td>5.0</td>\n",
              "      <td>4.0</td>\n",
              "      <td>5.0</td>\n",
              "      <td>4.0</td>\n",
              "      <td>4.0</td>\n",
              "      <td>4.0</td>\n",
              "      <td>5.0</td>\n",
              "      <td>4.0</td>\n",
              "      <td>2.0</td>\n",
              "      <td>...</td>\n",
              "      <td>4.0</td>\n",
              "      <td>5.0</td>\n",
              "      <td>4.0</td>\n",
              "      <td>2.0</td>\n",
              "      <td>3.0</td>\n",
              "      <td>4.0</td>\n",
              "      <td>2</td>\n",
              "      <td>5.0</td>\n",
              "      <td>5.0</td>\n",
              "      <td>2.0</td>\n",
              "    </tr>\n",
              "    <tr>\n",
              "      <th>3</th>\n",
              "      <td>61621</td>\n",
              "      <td>4.0</td>\n",
              "      <td>4.0</td>\n",
              "      <td>6.0</td>\n",
              "      <td>5.0</td>\n",
              "      <td>5.0</td>\n",
              "      <td>4.0</td>\n",
              "      <td>4.0</td>\n",
              "      <td>3.0</td>\n",
              "      <td>5.0</td>\n",
              "      <td>...</td>\n",
              "      <td>2.0</td>\n",
              "      <td>5.0</td>\n",
              "      <td>2.0</td>\n",
              "      <td>4.0</td>\n",
              "      <td>1.0</td>\n",
              "      <td>3.0</td>\n",
              "      <td>3</td>\n",
              "      <td>4.0</td>\n",
              "      <td>3.0</td>\n",
              "      <td>5.0</td>\n",
              "    </tr>\n",
              "    <tr>\n",
              "      <th>4</th>\n",
              "      <td>61622</td>\n",
              "      <td>2.0</td>\n",
              "      <td>3.0</td>\n",
              "      <td>3.0</td>\n",
              "      <td>4.0</td>\n",
              "      <td>5.0</td>\n",
              "      <td>4.0</td>\n",
              "      <td>4.0</td>\n",
              "      <td>5.0</td>\n",
              "      <td>3.0</td>\n",
              "      <td>...</td>\n",
              "      <td>2.0</td>\n",
              "      <td>3.0</td>\n",
              "      <td>4.0</td>\n",
              "      <td>4.0</td>\n",
              "      <td>3.0</td>\n",
              "      <td>3.0</td>\n",
              "      <td>3</td>\n",
              "      <td>4.0</td>\n",
              "      <td>3.0</td>\n",
              "      <td>3.0</td>\n",
              "    </tr>\n",
              "  </tbody>\n",
              "</table>\n",
              "<p>5 rows × 26 columns</p>\n",
              "</div>\n",
              "    <div class=\"colab-df-buttons\">\n",
              "\n",
              "  <div class=\"colab-df-container\">\n",
              "    <button class=\"colab-df-convert\" onclick=\"convertToInteractive('df-241b0c05-91a3-453b-a893-b6dea9dc2797')\"\n",
              "            title=\"Convert this dataframe to an interactive table.\"\n",
              "            style=\"display:none;\">\n",
              "\n",
              "  <svg xmlns=\"http://www.w3.org/2000/svg\" height=\"24px\" viewBox=\"0 -960 960 960\">\n",
              "    <path d=\"M120-120v-720h720v720H120Zm60-500h600v-160H180v160Zm220 220h160v-160H400v160Zm0 220h160v-160H400v160ZM180-400h160v-160H180v160Zm440 0h160v-160H620v160ZM180-180h160v-160H180v160Zm440 0h160v-160H620v160Z\"/>\n",
              "  </svg>\n",
              "    </button>\n",
              "\n",
              "  <style>\n",
              "    .colab-df-container {\n",
              "      display:flex;\n",
              "      gap: 12px;\n",
              "    }\n",
              "\n",
              "    .colab-df-convert {\n",
              "      background-color: #E8F0FE;\n",
              "      border: none;\n",
              "      border-radius: 50%;\n",
              "      cursor: pointer;\n",
              "      display: none;\n",
              "      fill: #1967D2;\n",
              "      height: 32px;\n",
              "      padding: 0 0 0 0;\n",
              "      width: 32px;\n",
              "    }\n",
              "\n",
              "    .colab-df-convert:hover {\n",
              "      background-color: #E2EBFA;\n",
              "      box-shadow: 0px 1px 2px rgba(60, 64, 67, 0.3), 0px 1px 3px 1px rgba(60, 64, 67, 0.15);\n",
              "      fill: #174EA6;\n",
              "    }\n",
              "\n",
              "    .colab-df-buttons div {\n",
              "      margin-bottom: 4px;\n",
              "    }\n",
              "\n",
              "    [theme=dark] .colab-df-convert {\n",
              "      background-color: #3B4455;\n",
              "      fill: #D2E3FC;\n",
              "    }\n",
              "\n",
              "    [theme=dark] .colab-df-convert:hover {\n",
              "      background-color: #434B5C;\n",
              "      box-shadow: 0px 1px 3px 1px rgba(0, 0, 0, 0.15);\n",
              "      filter: drop-shadow(0px 1px 2px rgba(0, 0, 0, 0.3));\n",
              "      fill: #FFFFFF;\n",
              "    }\n",
              "  </style>\n",
              "\n",
              "    <script>\n",
              "      const buttonEl =\n",
              "        document.querySelector('#df-241b0c05-91a3-453b-a893-b6dea9dc2797 button.colab-df-convert');\n",
              "      buttonEl.style.display =\n",
              "        google.colab.kernel.accessAllowed ? 'block' : 'none';\n",
              "\n",
              "      async function convertToInteractive(key) {\n",
              "        const element = document.querySelector('#df-241b0c05-91a3-453b-a893-b6dea9dc2797');\n",
              "        const dataTable =\n",
              "          await google.colab.kernel.invokeFunction('convertToInteractive',\n",
              "                                                    [key], {});\n",
              "        if (!dataTable) return;\n",
              "\n",
              "        const docLinkHtml = 'Like what you see? Visit the ' +\n",
              "          '<a target=\"_blank\" href=https://colab.research.google.com/notebooks/data_table.ipynb>data table notebook</a>'\n",
              "          + ' to learn more about interactive tables.';\n",
              "        element.innerHTML = '';\n",
              "        dataTable['output_type'] = 'display_data';\n",
              "        await google.colab.output.renderOutput(dataTable, element);\n",
              "        const docLink = document.createElement('div');\n",
              "        docLink.innerHTML = docLinkHtml;\n",
              "        element.appendChild(docLink);\n",
              "      }\n",
              "    </script>\n",
              "  </div>\n",
              "\n",
              "\n",
              "<div id=\"df-96f13bc1-a801-4a49-800b-bf2c8c5bc0ad\">\n",
              "  <button class=\"colab-df-quickchart\" onclick=\"quickchart('df-96f13bc1-a801-4a49-800b-bf2c8c5bc0ad')\"\n",
              "            title=\"Suggest charts\"\n",
              "            style=\"display:none;\">\n",
              "\n",
              "<svg xmlns=\"http://www.w3.org/2000/svg\" height=\"24px\"viewBox=\"0 0 24 24\"\n",
              "     width=\"24px\">\n",
              "    <g>\n",
              "        <path d=\"M19 3H5c-1.1 0-2 .9-2 2v14c0 1.1.9 2 2 2h14c1.1 0 2-.9 2-2V5c0-1.1-.9-2-2-2zM9 17H7v-7h2v7zm4 0h-2V7h2v10zm4 0h-2v-4h2v4z\"/>\n",
              "    </g>\n",
              "</svg>\n",
              "  </button>\n",
              "\n",
              "<style>\n",
              "  .colab-df-quickchart {\n",
              "      --bg-color: #E8F0FE;\n",
              "      --fill-color: #1967D2;\n",
              "      --hover-bg-color: #E2EBFA;\n",
              "      --hover-fill-color: #174EA6;\n",
              "      --disabled-fill-color: #AAA;\n",
              "      --disabled-bg-color: #DDD;\n",
              "  }\n",
              "\n",
              "  [theme=dark] .colab-df-quickchart {\n",
              "      --bg-color: #3B4455;\n",
              "      --fill-color: #D2E3FC;\n",
              "      --hover-bg-color: #434B5C;\n",
              "      --hover-fill-color: #FFFFFF;\n",
              "      --disabled-bg-color: #3B4455;\n",
              "      --disabled-fill-color: #666;\n",
              "  }\n",
              "\n",
              "  .colab-df-quickchart {\n",
              "    background-color: var(--bg-color);\n",
              "    border: none;\n",
              "    border-radius: 50%;\n",
              "    cursor: pointer;\n",
              "    display: none;\n",
              "    fill: var(--fill-color);\n",
              "    height: 32px;\n",
              "    padding: 0;\n",
              "    width: 32px;\n",
              "  }\n",
              "\n",
              "  .colab-df-quickchart:hover {\n",
              "    background-color: var(--hover-bg-color);\n",
              "    box-shadow: 0 1px 2px rgba(60, 64, 67, 0.3), 0 1px 3px 1px rgba(60, 64, 67, 0.15);\n",
              "    fill: var(--button-hover-fill-color);\n",
              "  }\n",
              "\n",
              "  .colab-df-quickchart-complete:disabled,\n",
              "  .colab-df-quickchart-complete:disabled:hover {\n",
              "    background-color: var(--disabled-bg-color);\n",
              "    fill: var(--disabled-fill-color);\n",
              "    box-shadow: none;\n",
              "  }\n",
              "\n",
              "  .colab-df-spinner {\n",
              "    border: 2px solid var(--fill-color);\n",
              "    border-color: transparent;\n",
              "    border-bottom-color: var(--fill-color);\n",
              "    animation:\n",
              "      spin 1s steps(1) infinite;\n",
              "  }\n",
              "\n",
              "  @keyframes spin {\n",
              "    0% {\n",
              "      border-color: transparent;\n",
              "      border-bottom-color: var(--fill-color);\n",
              "      border-left-color: var(--fill-color);\n",
              "    }\n",
              "    20% {\n",
              "      border-color: transparent;\n",
              "      border-left-color: var(--fill-color);\n",
              "      border-top-color: var(--fill-color);\n",
              "    }\n",
              "    30% {\n",
              "      border-color: transparent;\n",
              "      border-left-color: var(--fill-color);\n",
              "      border-top-color: var(--fill-color);\n",
              "      border-right-color: var(--fill-color);\n",
              "    }\n",
              "    40% {\n",
              "      border-color: transparent;\n",
              "      border-right-color: var(--fill-color);\n",
              "      border-top-color: var(--fill-color);\n",
              "    }\n",
              "    60% {\n",
              "      border-color: transparent;\n",
              "      border-right-color: var(--fill-color);\n",
              "    }\n",
              "    80% {\n",
              "      border-color: transparent;\n",
              "      border-right-color: var(--fill-color);\n",
              "      border-bottom-color: var(--fill-color);\n",
              "    }\n",
              "    90% {\n",
              "      border-color: transparent;\n",
              "      border-bottom-color: var(--fill-color);\n",
              "    }\n",
              "  }\n",
              "</style>\n",
              "\n",
              "  <script>\n",
              "    async function quickchart(key) {\n",
              "      const quickchartButtonEl =\n",
              "        document.querySelector('#' + key + ' button');\n",
              "      quickchartButtonEl.disabled = true;  // To prevent multiple clicks.\n",
              "      quickchartButtonEl.classList.add('colab-df-spinner');\n",
              "      try {\n",
              "        const charts = await google.colab.kernel.invokeFunction(\n",
              "            'suggestCharts', [key], {});\n",
              "      } catch (error) {\n",
              "        console.error('Error during call to suggestCharts:', error);\n",
              "      }\n",
              "      quickchartButtonEl.classList.remove('colab-df-spinner');\n",
              "      quickchartButtonEl.classList.add('colab-df-quickchart-complete');\n",
              "    }\n",
              "    (() => {\n",
              "      let quickchartButtonEl =\n",
              "        document.querySelector('#df-96f13bc1-a801-4a49-800b-bf2c8c5bc0ad button');\n",
              "      quickchartButtonEl.style.display =\n",
              "        google.colab.kernel.accessAllowed ? 'block' : 'none';\n",
              "    })();\n",
              "  </script>\n",
              "</div>\n",
              "    </div>\n",
              "  </div>\n"
            ]
          },
          "metadata": {},
          "execution_count": 10
        }
      ]
    },
    {
      "cell_type": "markdown",
      "source": [
        "Adequacy Test\n",
        "Before you perform factor analysis, you need to evaluate the “factorability” of our dataset. Factorability means \"can we found the factors in the dataset?\". There are two methods to check the factorability or sampling adequacy:\n",
        "\n",
        "Bartlett’s Test\n",
        "Kaiser-Meyer-Olkin Test\n",
        "Bartlett’s test of sphericity checks whether or not the observed variables intercorrelate at all using the observed correlation matrix against the identity matrix. If the test found statistically insignificant, you should not employ a factor analysis."
      ],
      "metadata": {
        "id": "IE1Nul-2hpU9"
      }
    },
    {
      "cell_type": "code",
      "source": [
        "from factor_analyzer.factor_analyzer import calculate_bartlett_sphericity\n",
        "chi_square_value,p_value=calculate_bartlett_sphericity(df)\n",
        "chi_square_value, p_value"
      ],
      "metadata": {
        "colab": {
          "base_uri": "https://localhost:8080/"
        },
        "id": "dRrFcjB2hf-j",
        "outputId": "bcd8103f-126d-4e0c-f14c-45aca7be859e"
      },
      "execution_count": null,
      "outputs": [
        {
          "output_type": "execute_result",
          "data": {
            "text/plain": [
              "(18184.30630782077, 0.0)"
            ]
          },
          "metadata": {},
          "execution_count": 11
        }
      ]
    },
    {
      "cell_type": "markdown",
      "source": [
        "In this Bartlett ’s test, the p-value is 0. The test was statistically significant, indicating that the observed correlation matrix is not an identity matrix.\n",
        "\n",
        "Kaiser-Meyer-Olkin (KMO) Test measures the suitability of data for factor analysis. It determines the adequacy for each observed variable and for the complete model. KMO estimates the proportion of variance among all the observed variable. Lower proportion id more suitable for factor analysis. KMO values range between 0 and 1. Value of KMO less than 0.6 is considered inadequate."
      ],
      "metadata": {
        "id": "1tnE0pClh2fe"
      }
    },
    {
      "cell_type": "code",
      "source": [
        "from factor_analyzer.factor_analyzer import calculate_kmo\n",
        "kmo_all,kmo_model=calculate_kmo(df)\n",
        "kmo_model"
      ],
      "metadata": {
        "colab": {
          "base_uri": "https://localhost:8080/"
        },
        "id": "G78M7Yczhrh8",
        "outputId": "65f07293-18bd-4c4b-ef12-5baacaa48955"
      },
      "execution_count": null,
      "outputs": [
        {
          "output_type": "execute_result",
          "data": {
            "text/plain": [
              "0.8483267027192372"
            ]
          },
          "metadata": {},
          "execution_count": 13
        }
      ]
    },
    {
      "cell_type": "markdown",
      "source": [
        "The overall KMO for our data is 0.84, which is excellent. This value indicates that you can proceed with your planned factor analysis.\n",
        "\n",
        "Choosing the Number of Factors\n",
        "For choosing the number of factors, you can use the Kaiser criterion and scree plot. Both are based on eigenvalues."
      ],
      "metadata": {
        "id": "SmZqcInNh-aN"
      }
    },
    {
      "cell_type": "code",
      "source": [
        "# Create factor analysis object and perform factor analysis\n",
        "fa = FactorAnalyzer(25, rotation=None)\n",
        "fa.fit(df)\n",
        "#fa.analyze(df, 25, rotation=None)\n",
        "# Check Eigenvalues\n",
        "#eigen_values, vectors = fa.get_eigenvalues()\n",
        "ev, v = fa.get_eigenvalues()\n",
        "ev"
      ],
      "metadata": {
        "colab": {
          "base_uri": "https://localhost:8080/"
        },
        "id": "NgzCqplRh4Ib",
        "outputId": "62e306e4-5f75-4d2c-9808-817c4f073e93"
      },
      "execution_count": 22,
      "outputs": [
        {
          "output_type": "execute_result",
          "data": {
            "text/plain": [
              "array([5.13457985, 2.75337527, 2.14814212, 1.85250623, 1.54846254,\n",
              "       1.11066151, 0.98067695, 0.82430872, 0.79516217, 0.71828982,\n",
              "       0.68602566, 0.67614851, 0.65177562, 0.62297416, 0.59623084,\n",
              "       0.56244599, 0.54329886, 0.51434031, 0.49437154, 0.48263949,\n",
              "       0.44865495, 0.42280589, 0.40028481, 0.38773757, 0.38183723,\n",
              "       0.2622634 ])"
            ]
          },
          "metadata": {},
          "execution_count": 22
        }
      ]
    },
    {
      "cell_type": "code",
      "source": [
        "# Create scree plot using matplotlib\n",
        "plt.scatter(range(1,df.shape[1]+1),ev)\n",
        "plt.plot(range(1,df.shape[1]+1),ev)\n",
        "plt.title('Scree Plot')\n",
        "plt.xlabel('Factors')\n",
        "plt.ylabel('Eigenvalue')\n",
        "plt.grid()\n",
        "plt.show()"
      ],
      "metadata": {
        "colab": {
          "base_uri": "https://localhost:8080/",
          "height": 472
        },
        "id": "UinSJMG4i3RM",
        "outputId": "3206ef2f-d7ac-4af5-d678-21a9cd14ac47"
      },
      "execution_count": null,
      "outputs": [
        {
          "output_type": "display_data",
          "data": {
            "text/plain": [
              "<Figure size 640x480 with 1 Axes>"
            ],
            "image/png": "[encoded data removed]"
          },
          "metadata": {}
        }
      ]
    },
    {
      "cell_type": "code",
      "source": [
        "# Create factor analysis object and perform factor analysis\n",
        "fa = FactorAnalyzer(n_factors=6, rotation='varimax')\n",
        "fa.fit(df)\n",
        "#fa.analyze(df, 6, rotation=\"varimax\")\n",
        "loadings = fa.loadings_\n",
        "loadings"
      ],
      "metadata": {
        "colab": {
          "base_uri": "https://localhost:8080/"
        },
        "id": "UEyum4Uoi9Bw",
        "outputId": "cbe5a198-b119-45cc-d3a6-d1fadb183f1a"
      },
      "execution_count": 23,
      "outputs": [
        {
          "output_type": "execute_result",
          "data": {
            "text/plain": [
              "array([[-0.02290301, -0.03247244,  0.03316871, -0.03809335,  0.00379506,\n",
              "         0.10374847],\n",
              "       [ 0.09939617,  0.06047378,  0.02669442, -0.53078469, -0.12030936,\n",
              "         0.16363838],\n",
              "       [ 0.03176731,  0.259875  ,  0.1402256 ,  0.64656947,  0.05577021,\n",
              "        -0.09704963],\n",
              "       [-0.00525556,  0.40884857,  0.10953353,  0.58700379,  0.01618433,\n",
              "         0.03914857],\n",
              "       [-0.07926603,  0.25534237,  0.22930808,  0.39176034, -0.13629257,\n",
              "         0.03340065],\n",
              "       [-0.14364476,  0.4910488 ,  0.0856494 ,  0.45108989,  0.00911122,\n",
              "         0.10588827],\n",
              "       [ 0.00562295,  0.12364715,  0.54015018,  0.00422137,  0.18345833,\n",
              "         0.13879815],\n",
              "       [ 0.08435816,  0.10650466,  0.65249593,  0.05653766,  0.0792028 ,\n",
              "         0.20858043],\n",
              "       [-0.03394649,  0.0497959 ,  0.54587749,  0.10028627, -0.0123717 ,\n",
              "         0.05447959],\n",
              "       [ 0.23161662,  0.0089893 , -0.67278538, -0.08998026, -0.15345088,\n",
              "         0.226977  ],\n",
              "       [ 0.29340234, -0.1436436 , -0.55970426, -0.04706994,  0.0256143 ,\n",
              "         0.09577898],\n",
              "       [ 0.05310218, -0.52147723,  0.02649196, -0.09054497, -0.05928098,\n",
              "         0.33201866],\n",
              "       [ 0.2631889 , -0.62292324, -0.11075758, -0.07455019, -0.03044005,\n",
              "         0.29120361],\n",
              "       [ 0.00119   ,  0.63056485,  0.07741736,  0.15388275,  0.21421252,\n",
              "         0.09215221],\n",
              "       [-0.14723885,  0.68281775,  0.10390412,  0.2065131 , -0.13327166,\n",
              "        -0.03773659],\n",
              "       [ 0.02197833,  0.50438366,  0.31238313,  0.04844782,  0.18521833,\n",
              "        -0.11350852],\n",
              "       [ 0.79096653,  0.033469  , -0.04001445, -0.19151604, -0.07737848,\n",
              "        -0.16815916],\n",
              "       [ 0.77708495, -0.01765921, -0.02173671, -0.15558624,  0.00764293,\n",
              "        -0.199391  ],\n",
              "       [ 0.72818732, -0.03614561, -0.0674602 , -0.02313414, -0.01532483,\n",
              "         0.02192578],\n",
              "       [ 0.59778566, -0.2770728 , -0.1837043 ,  0.01861508,  0.06451108,\n",
              "         0.18288879],\n",
              "       [ 0.53479082, -0.11293748, -0.04097176,  0.09644977, -0.1645811 ,\n",
              "         0.11185692],\n",
              "       [-0.00891931,  0.3023176 ,  0.10733112, -0.00134206,  0.46434464,\n",
              "         0.16741622],\n",
              "       [ 0.16146455,  0.02029611, -0.10051682,  0.04691938, -0.50064301,\n",
              "         0.08416413],\n",
              "       [ 0.0196248 ,  0.40211954,  0.07042896,  0.06363394,  0.54784203,\n",
              "         0.12081642],\n",
              "       [ 0.22872114, -0.0926477 , -0.03000306,  0.14801512,  0.34628284,\n",
              "         0.20228616],\n",
              "       [ 0.06801994,  0.00091956, -0.06223948, -0.05313796, -0.57993276,\n",
              "         0.10662123]])"
            ]
          },
          "metadata": {},
          "execution_count": 23
        }
      ]
    },
    {
      "cell_type": "code",
      "source": [
        "# Create factor analysis object and perform factor analysis using 5 factors\n",
        "fa = FactorAnalyzer(5,rotation=\"varimax\")\n",
        "fa.fit(df)\n",
        "fa.loadings_"
      ],
      "metadata": {
        "id": "H3MPmP2AlkfN",
        "colab": {
          "base_uri": "https://localhost:8080/"
        },
        "outputId": "7628fce2-3081-4e1a-b202-43b5d55b0ff5"
      },
      "execution_count": 25,
      "outputs": [
        {
          "output_type": "execute_result",
          "data": {
            "text/plain": [
              "array([[-0.01924556, -0.06170286,  0.03486479, -0.01867751,  0.0143449 ],\n",
              "       [ 0.1064546 ,  0.0307053 ,  0.02756748, -0.42961248, -0.07413314],\n",
              "       [ 0.02869339,  0.22712712,  0.14115892,  0.62180104,  0.0641174 ],\n",
              "       [ 0.0053354 ,  0.32992706,  0.11592822,  0.64285597,  0.06164725],\n",
              "       [-0.06944324,  0.2092169 ,  0.23541803,  0.43124101, -0.10864741],\n",
              "       [-0.12900241,  0.39769001,  0.09790092,  0.52815947,  0.0753634 ],\n",
              "       [ 0.00954751,  0.04829695,  0.54827569,  0.04119434,  0.21216878],\n",
              "       [ 0.08997526,  0.01445863,  0.65030388,  0.10569283,  0.11658219],\n",
              "       [-0.03024319,  0.01082522,  0.55578126,  0.11416497, -0.00481157],\n",
              "       [ 0.24079401, -0.03932582, -0.63357583, -0.04146169, -0.1096952 ],\n",
              "       [ 0.29433007, -0.15417946, -0.56699105, -0.04785845,  0.03126425],\n",
              "       [ 0.05706633, -0.57646013,  0.01718243, -0.08965972, -0.07321838],\n",
              "       [ 0.2616608 , -0.67156053, -0.12149036, -0.09678776, -0.05968008],\n",
              "       [ 0.01241719,  0.53305616,  0.09762393,  0.24574113,  0.29388278],\n",
              "       [-0.13102573,  0.64875005,  0.12049501,  0.29006877, -0.05698468],\n",
              "       [ 0.02432691,  0.49253433,  0.32663881,  0.079579  ,  0.2265375 ],\n",
              "       [ 0.78272568,  0.09767984, -0.04238834, -0.22505965, -0.0834706 ],\n",
              "       [ 0.75241989,  0.04493476, -0.02954695, -0.20053909, -0.01094505],\n",
              "       [ 0.73257146, -0.04106614, -0.06834851, -0.03184851, -0.0072839 ],\n",
              "       [ 0.59963482, -0.32610163, -0.18899936,  0.01019068,  0.06465926],\n",
              "       [ 0.54204286, -0.13932631, -0.0420651 ,  0.10022914, -0.15565296],\n",
              "       [-0.00609419,  0.19646268,  0.12086297,  0.05957344,  0.51064181],\n",
              "       [ 0.1747347 ,  0.02676212, -0.09912926,  0.07736822, -0.46963751],\n",
              "       [ 0.02110565,  0.29624285,  0.08470956,  0.12236933,  0.60357183],\n",
              "       [ 0.22782642, -0.18928947, -0.02935289,  0.16078712,  0.3622553 ],\n",
              "       [ 0.08361938,  0.0115903 , -0.06135691, -0.01397359, -0.53340144]])"
            ]
          },
          "metadata": {},
          "execution_count": 25
        }
      ]
    },
    {
      "cell_type": "code",
      "source": [
        "# Get variance of each factors\n",
        "fa.get_factor_variance()"
      ],
      "metadata": {
        "id": "L2u0A3t2ln1l",
        "colab": {
          "base_uri": "https://localhost:8080/"
        },
        "outputId": "16e42451-4e96-4ceb-bef0-0415f3ed7119"
      },
      "execution_count": 26,
      "outputs": [
        {
          "output_type": "execute_result",
          "data": {
            "text/plain": [
              "(array([2.73610909, 2.42804921, 2.08250384, 1.80050522, 1.54950195]),\n",
              " array([0.10523496, 0.09338651, 0.0800963 , 0.0692502 , 0.05959623]),\n",
              " array([0.10523496, 0.19862147, 0.27871777, 0.34796798, 0.4075642 ]))"
            ]
          },
          "metadata": {},
          "execution_count": 26
        }
      ]
    }
  ]
}